{
 "cells": [
  {
   "cell_type": "markdown",
   "metadata": {},
   "source": [
    "# Data Wrangling & Feature Engineering"
   ]
  },
  {
   "cell_type": "code",
   "execution_count": 379,
   "id": "15421e4e-0b05-448e-8032-42cf1c7e051f",
   "metadata": {},
   "outputs": [],
   "source": [
    "import pandas as pd\n",
    "import numpy as np"
   ]
  },
  {
   "cell_type": "code",
   "execution_count": 380,
   "metadata": {},
   "outputs": [],
   "source": [
    "user_df = pd.read_csv('User_Listening_History.csv')\n",
    "music_df = pd.read_csv('Music_Info.csv')"
   ]
  },
  {
   "cell_type": "code",
   "execution_count": 381,
   "metadata": {},
   "outputs": [
    {
     "data": {
      "text/html": [
       "<div>\n",
       "<style scoped>\n",
       "    .dataframe tbody tr th:only-of-type {\n",
       "        vertical-align: middle;\n",
       "    }\n",
       "\n",
       "    .dataframe tbody tr th {\n",
       "        vertical-align: top;\n",
       "    }\n",
       "\n",
       "    .dataframe thead th {\n",
       "        text-align: right;\n",
       "    }\n",
       "</style>\n",
       "<table border=\"1\" class=\"dataframe\">\n",
       "  <thead>\n",
       "    <tr style=\"text-align: right;\">\n",
       "      <th></th>\n",
       "      <th>track_id</th>\n",
       "      <th>name</th>\n",
       "      <th>artist</th>\n",
       "      <th>spotify_preview_url</th>\n",
       "      <th>spotify_id</th>\n",
       "      <th>tags</th>\n",
       "      <th>genre</th>\n",
       "      <th>year</th>\n",
       "      <th>duration_ms</th>\n",
       "      <th>danceability</th>\n",
       "      <th>...</th>\n",
       "      <th>key</th>\n",
       "      <th>loudness</th>\n",
       "      <th>mode</th>\n",
       "      <th>speechiness</th>\n",
       "      <th>acousticness</th>\n",
       "      <th>instrumentalness</th>\n",
       "      <th>liveness</th>\n",
       "      <th>valence</th>\n",
       "      <th>tempo</th>\n",
       "      <th>time_signature</th>\n",
       "    </tr>\n",
       "  </thead>\n",
       "  <tbody>\n",
       "    <tr>\n",
       "      <th>0</th>\n",
       "      <td>TRIOREW128F424EAF0</td>\n",
       "      <td>Mr. Brightside</td>\n",
       "      <td>The Killers</td>\n",
       "      <td>https://p.scdn.co/mp3-preview/4d26180e6961fd46...</td>\n",
       "      <td>09ZQ5TmUG8TSL56n0knqrj</td>\n",
       "      <td>rock, alternative, indie, alternative_rock, in...</td>\n",
       "      <td>NaN</td>\n",
       "      <td>2004</td>\n",
       "      <td>222200</td>\n",
       "      <td>0.355</td>\n",
       "      <td>...</td>\n",
       "      <td>1</td>\n",
       "      <td>-4.360</td>\n",
       "      <td>1</td>\n",
       "      <td>0.0746</td>\n",
       "      <td>0.001190</td>\n",
       "      <td>0.000000</td>\n",
       "      <td>0.0971</td>\n",
       "      <td>0.240</td>\n",
       "      <td>148.114</td>\n",
       "      <td>4</td>\n",
       "    </tr>\n",
       "    <tr>\n",
       "      <th>1</th>\n",
       "      <td>TRRIVDJ128F429B0E8</td>\n",
       "      <td>Wonderwall</td>\n",
       "      <td>Oasis</td>\n",
       "      <td>https://p.scdn.co/mp3-preview/d012e536916c927b...</td>\n",
       "      <td>06UfBBDISthj1ZJAtX4xjj</td>\n",
       "      <td>rock, alternative, indie, pop, alternative_roc...</td>\n",
       "      <td>NaN</td>\n",
       "      <td>2006</td>\n",
       "      <td>258613</td>\n",
       "      <td>0.409</td>\n",
       "      <td>...</td>\n",
       "      <td>2</td>\n",
       "      <td>-4.373</td>\n",
       "      <td>1</td>\n",
       "      <td>0.0336</td>\n",
       "      <td>0.000807</td>\n",
       "      <td>0.000000</td>\n",
       "      <td>0.2070</td>\n",
       "      <td>0.651</td>\n",
       "      <td>174.426</td>\n",
       "      <td>4</td>\n",
       "    </tr>\n",
       "    <tr>\n",
       "      <th>2</th>\n",
       "      <td>TROUVHL128F426C441</td>\n",
       "      <td>Come as You Are</td>\n",
       "      <td>Nirvana</td>\n",
       "      <td>https://p.scdn.co/mp3-preview/a1c11bb1cb231031...</td>\n",
       "      <td>0keNu0t0tqsWtExGM3nT1D</td>\n",
       "      <td>rock, alternative, alternative_rock, 90s, grunge</td>\n",
       "      <td>RnB</td>\n",
       "      <td>1991</td>\n",
       "      <td>218920</td>\n",
       "      <td>0.508</td>\n",
       "      <td>...</td>\n",
       "      <td>4</td>\n",
       "      <td>-5.783</td>\n",
       "      <td>0</td>\n",
       "      <td>0.0400</td>\n",
       "      <td>0.000175</td>\n",
       "      <td>0.000459</td>\n",
       "      <td>0.0878</td>\n",
       "      <td>0.543</td>\n",
       "      <td>120.012</td>\n",
       "      <td>4</td>\n",
       "    </tr>\n",
       "    <tr>\n",
       "      <th>3</th>\n",
       "      <td>TRUEIND128F93038C4</td>\n",
       "      <td>Take Me Out</td>\n",
       "      <td>Franz Ferdinand</td>\n",
       "      <td>https://p.scdn.co/mp3-preview/399c401370438be4...</td>\n",
       "      <td>0ancVQ9wEcHVd0RrGICTE4</td>\n",
       "      <td>rock, alternative, indie, alternative_rock, in...</td>\n",
       "      <td>NaN</td>\n",
       "      <td>2004</td>\n",
       "      <td>237026</td>\n",
       "      <td>0.279</td>\n",
       "      <td>...</td>\n",
       "      <td>9</td>\n",
       "      <td>-8.851</td>\n",
       "      <td>1</td>\n",
       "      <td>0.0371</td>\n",
       "      <td>0.000389</td>\n",
       "      <td>0.000655</td>\n",
       "      <td>0.1330</td>\n",
       "      <td>0.490</td>\n",
       "      <td>104.560</td>\n",
       "      <td>4</td>\n",
       "    </tr>\n",
       "    <tr>\n",
       "      <th>4</th>\n",
       "      <td>TRLNZBD128F935E4D8</td>\n",
       "      <td>Creep</td>\n",
       "      <td>Radiohead</td>\n",
       "      <td>https://p.scdn.co/mp3-preview/e7eb60e9466bc3a2...</td>\n",
       "      <td>01QoK9DA7VTeTSE3MNzp4I</td>\n",
       "      <td>rock, alternative, indie, alternative_rock, in...</td>\n",
       "      <td>RnB</td>\n",
       "      <td>2008</td>\n",
       "      <td>238640</td>\n",
       "      <td>0.515</td>\n",
       "      <td>...</td>\n",
       "      <td>7</td>\n",
       "      <td>-9.935</td>\n",
       "      <td>1</td>\n",
       "      <td>0.0369</td>\n",
       "      <td>0.010200</td>\n",
       "      <td>0.000141</td>\n",
       "      <td>0.1290</td>\n",
       "      <td>0.104</td>\n",
       "      <td>91.841</td>\n",
       "      <td>4</td>\n",
       "    </tr>\n",
       "  </tbody>\n",
       "</table>\n",
       "<p>5 rows × 21 columns</p>\n",
       "</div>"
      ],
      "text/plain": [
       "             track_id             name           artist  \\\n",
       "0  TRIOREW128F424EAF0   Mr. Brightside      The Killers   \n",
       "1  TRRIVDJ128F429B0E8       Wonderwall            Oasis   \n",
       "2  TROUVHL128F426C441  Come as You Are          Nirvana   \n",
       "3  TRUEIND128F93038C4      Take Me Out  Franz Ferdinand   \n",
       "4  TRLNZBD128F935E4D8            Creep        Radiohead   \n",
       "\n",
       "                                 spotify_preview_url              spotify_id  \\\n",
       "0  https://p.scdn.co/mp3-preview/4d26180e6961fd46...  09ZQ5TmUG8TSL56n0knqrj   \n",
       "1  https://p.scdn.co/mp3-preview/d012e536916c927b...  06UfBBDISthj1ZJAtX4xjj   \n",
       "2  https://p.scdn.co/mp3-preview/a1c11bb1cb231031...  0keNu0t0tqsWtExGM3nT1D   \n",
       "3  https://p.scdn.co/mp3-preview/399c401370438be4...  0ancVQ9wEcHVd0RrGICTE4   \n",
       "4  https://p.scdn.co/mp3-preview/e7eb60e9466bc3a2...  01QoK9DA7VTeTSE3MNzp4I   \n",
       "\n",
       "                                                tags genre  year  duration_ms  \\\n",
       "0  rock, alternative, indie, alternative_rock, in...   NaN  2004       222200   \n",
       "1  rock, alternative, indie, pop, alternative_roc...   NaN  2006       258613   \n",
       "2   rock, alternative, alternative_rock, 90s, grunge   RnB  1991       218920   \n",
       "3  rock, alternative, indie, alternative_rock, in...   NaN  2004       237026   \n",
       "4  rock, alternative, indie, alternative_rock, in...   RnB  2008       238640   \n",
       "\n",
       "   danceability  ...  key  loudness  mode  speechiness  acousticness  \\\n",
       "0         0.355  ...    1    -4.360     1       0.0746      0.001190   \n",
       "1         0.409  ...    2    -4.373     1       0.0336      0.000807   \n",
       "2         0.508  ...    4    -5.783     0       0.0400      0.000175   \n",
       "3         0.279  ...    9    -8.851     1       0.0371      0.000389   \n",
       "4         0.515  ...    7    -9.935     1       0.0369      0.010200   \n",
       "\n",
       "   instrumentalness  liveness  valence    tempo  time_signature  \n",
       "0          0.000000    0.0971    0.240  148.114               4  \n",
       "1          0.000000    0.2070    0.651  174.426               4  \n",
       "2          0.000459    0.0878    0.543  120.012               4  \n",
       "3          0.000655    0.1330    0.490  104.560               4  \n",
       "4          0.000141    0.1290    0.104   91.841               4  \n",
       "\n",
       "[5 rows x 21 columns]"
      ]
     },
     "execution_count": 381,
     "metadata": {},
     "output_type": "execute_result"
    }
   ],
   "source": [
    "music_df.head()"
   ]
  },
  {
   "cell_type": "code",
   "execution_count": 382,
   "metadata": {},
   "outputs": [
    {
     "data": {
      "text/html": [
       "<div>\n",
       "<style scoped>\n",
       "    .dataframe tbody tr th:only-of-type {\n",
       "        vertical-align: middle;\n",
       "    }\n",
       "\n",
       "    .dataframe tbody tr th {\n",
       "        vertical-align: top;\n",
       "    }\n",
       "\n",
       "    .dataframe thead th {\n",
       "        text-align: right;\n",
       "    }\n",
       "</style>\n",
       "<table border=\"1\" class=\"dataframe\">\n",
       "  <thead>\n",
       "    <tr style=\"text-align: right;\">\n",
       "      <th></th>\n",
       "      <th>track_id</th>\n",
       "      <th>user_id</th>\n",
       "      <th>playcount</th>\n",
       "    </tr>\n",
       "  </thead>\n",
       "  <tbody>\n",
       "    <tr>\n",
       "      <th>0</th>\n",
       "      <td>TRIRLYL128F42539D1</td>\n",
       "      <td>b80344d063b5ccb3212f76538f3d9e43d87dca9e</td>\n",
       "      <td>1</td>\n",
       "    </tr>\n",
       "    <tr>\n",
       "      <th>1</th>\n",
       "      <td>TRFUPBA128F934F7E1</td>\n",
       "      <td>b80344d063b5ccb3212f76538f3d9e43d87dca9e</td>\n",
       "      <td>1</td>\n",
       "    </tr>\n",
       "    <tr>\n",
       "      <th>2</th>\n",
       "      <td>TRLQPQJ128F42AA94F</td>\n",
       "      <td>b80344d063b5ccb3212f76538f3d9e43d87dca9e</td>\n",
       "      <td>1</td>\n",
       "    </tr>\n",
       "    <tr>\n",
       "      <th>3</th>\n",
       "      <td>TRTUCUY128F92E1D24</td>\n",
       "      <td>b80344d063b5ccb3212f76538f3d9e43d87dca9e</td>\n",
       "      <td>1</td>\n",
       "    </tr>\n",
       "    <tr>\n",
       "      <th>4</th>\n",
       "      <td>TRHDDQG12903CB53EE</td>\n",
       "      <td>b80344d063b5ccb3212f76538f3d9e43d87dca9e</td>\n",
       "      <td>1</td>\n",
       "    </tr>\n",
       "  </tbody>\n",
       "</table>\n",
       "</div>"
      ],
      "text/plain": [
       "             track_id                                   user_id  playcount\n",
       "0  TRIRLYL128F42539D1  b80344d063b5ccb3212f76538f3d9e43d87dca9e          1\n",
       "1  TRFUPBA128F934F7E1  b80344d063b5ccb3212f76538f3d9e43d87dca9e          1\n",
       "2  TRLQPQJ128F42AA94F  b80344d063b5ccb3212f76538f3d9e43d87dca9e          1\n",
       "3  TRTUCUY128F92E1D24  b80344d063b5ccb3212f76538f3d9e43d87dca9e          1\n",
       "4  TRHDDQG12903CB53EE  b80344d063b5ccb3212f76538f3d9e43d87dca9e          1"
      ]
     },
     "execution_count": 382,
     "metadata": {},
     "output_type": "execute_result"
    }
   ],
   "source": [
    "user_df.head()"
   ]
  },
  {
   "cell_type": "markdown",
   "metadata": {},
   "source": [
    "### 1. Wrangling & Cleaning"
   ]
  },
  {
   "cell_type": "code",
   "execution_count": 383,
   "metadata": {},
   "outputs": [],
   "source": [
    "# change pc_limit to change the amount of playcounts\n",
    "pc_limit = 20\n",
    "user_df_sub = user_df[user_df['playcount'] <= pc_limit]"
   ]
  },
  {
   "cell_type": "markdown",
   "metadata": {},
   "source": [
    "#### Genre encoding"
   ]
  },
  {
   "cell_type": "code",
   "execution_count": 384,
   "metadata": {},
   "outputs": [
    {
     "data": {
      "text/plain": [
       "track_id                   0\n",
       "name                       0\n",
       "artist                     0\n",
       "spotify_preview_url        0\n",
       "spotify_id                 0\n",
       "tags                    1127\n",
       "genre                  28335\n",
       "year                       0\n",
       "duration_ms                0\n",
       "danceability               0\n",
       "energy                     0\n",
       "key                        0\n",
       "loudness                   0\n",
       "mode                       0\n",
       "speechiness                0\n",
       "acousticness               0\n",
       "instrumentalness           0\n",
       "liveness                   0\n",
       "valence                    0\n",
       "tempo                      0\n",
       "time_signature             0\n",
       "dtype: int64"
      ]
     },
     "execution_count": 384,
     "metadata": {},
     "output_type": "execute_result"
    }
   ],
   "source": [
    "# check for nulls\n",
    "music_df.isnull().sum()"
   ]
  },
  {
   "cell_type": "code",
   "execution_count": 385,
   "metadata": {},
   "outputs": [
    {
     "name": "stdout",
     "output_type": "stream",
     "text": [
      "[nan 'RnB' 'Rock' 'Pop' 'Metal' 'Electronic' 'Jazz' 'Punk' 'Country'\n",
      " 'Folk' 'Reggae' 'Rap' 'Blues' 'New Age' 'Latin' 'World']\n"
     ]
    }
   ],
   "source": [
    "print(music_df['genre'].unique())"
   ]
  },
  {
   "cell_type": "code",
   "execution_count": 386,
   "metadata": {},
   "outputs": [
    {
     "data": {
      "text/plain": [
       "tags\n",
       "country                                                                             506\n",
       "reggae                                                                              454\n",
       "black_metal                                                                         442\n",
       "rap, hip_hop                                                                        378\n",
       "drum_and_bass                                                                       365\n",
       "                                                                                   ... \n",
       "rock, alternative, alternative_rock, experimental, singer_songwriter, blues, 00s      1\n",
       "indie, experimental, folk, acoustic, male_vocalists, guitar                           1\n",
       "electronic, experimental, punk, industrial, punk_rock                                 1\n",
       "rock, experimental, punk, punk_rock, 70s, grunge                                      1\n",
       "rock, alternative_rock, japanese, cover                                               1\n",
       "Name: count, Length: 20057, dtype: int64"
      ]
     },
     "execution_count": 386,
     "metadata": {},
     "output_type": "execute_result"
    }
   ],
   "source": [
    "music_df['tags'].value_counts()"
   ]
  },
  {
   "cell_type": "code",
   "execution_count": 387,
   "metadata": {},
   "outputs": [],
   "source": [
    "# genre to lowercase\n",
    "music_df['genre'] = music_df['genre'].str.lower()\n",
    "\n",
    "# tags and genre null values empty string\n",
    "music_df['tags'].fillna('', inplace=True)\n",
    "music_df['genre'].fillna('', inplace=True)"
   ]
  },
  {
   "cell_type": "code",
   "execution_count": 388,
   "metadata": {},
   "outputs": [],
   "source": [
    "def concatenate_genre_tags(row):\n",
    "    genre = row['genre'].strip()\n",
    "    tags = row['tags'].strip()\n",
    "\n",
    "    if genre and genre not in tags:\n",
    "        combined = f\"{genre}, {tags}\" if tags else genre\n",
    "    else:\n",
    "        combined = tags\n",
    "    return combined\n"
   ]
  },
  {
   "cell_type": "code",
   "execution_count": 389,
   "metadata": {},
   "outputs": [],
   "source": [
    "# make column tagsplus that is tags plus genre with comma and space\n",
    "music_df['tagsplus'] = music_df.apply(concatenate_genre_tags, axis=1)"
   ]
  },
  {
   "cell_type": "code",
   "execution_count": 390,
   "metadata": {},
   "outputs": [
    {
     "data": {
      "text/plain": [
       "0        rock, alternative, indie, alternative_rock, in...\n",
       "1        rock, alternative, indie, pop, alternative_roc...\n",
       "2        rnb, rock, alternative, alternative_rock, 90s,...\n",
       "3        rock, alternative, indie, alternative_rock, in...\n",
       "4        rnb, rock, alternative, indie, alternative_roc...\n",
       "                               ...                        \n",
       "50678                                                     \n",
       "50679              rock, alternative_rock, japanese, cover\n",
       "50680                      metal, metalcore, post_hardcore\n",
       "50681                                                     \n",
       "50682                           electronic, rock, japanese\n",
       "Name: tagsplus, Length: 50683, dtype: object"
      ]
     },
     "execution_count": 390,
     "metadata": {},
     "output_type": "execute_result"
    }
   ],
   "source": [
    "music_df['tagsplus']"
   ]
  },
  {
   "cell_type": "code",
   "execution_count": 391,
   "metadata": {},
   "outputs": [],
   "source": [
    "# drop rows where tagsplus is empty string\n",
    "music_df = music_df[music_df['tagsplus'] != '']"
   ]
  },
  {
   "cell_type": "code",
   "execution_count": 392,
   "metadata": {},
   "outputs": [
    {
     "data": {
      "text/plain": [
       "0        rock, alternative, indie, alternative_rock, in...\n",
       "1        rock, alternative, indie, pop, alternative_roc...\n",
       "2        rnb, rock, alternative, alternative_rock, 90s,...\n",
       "3        rock, alternative, indie, alternative_rock, in...\n",
       "4        rnb, rock, alternative, indie, alternative_roc...\n",
       "                               ...                        \n",
       "50675                          electronic, indie_pop, love\n",
       "50677                          alternative_rock, punk_rock\n",
       "50679              rock, alternative_rock, japanese, cover\n",
       "50680                      metal, metalcore, post_hardcore\n",
       "50682                           electronic, rock, japanese\n",
       "Name: tagsplus, Length: 49988, dtype: object"
      ]
     },
     "execution_count": 392,
     "metadata": {},
     "output_type": "execute_result"
    }
   ],
   "source": [
    "# for tagsplus count the amount of empty strings\n",
    "music_df['tagsplus']"
   ]
  },
  {
   "cell_type": "code",
   "execution_count": 393,
   "metadata": {},
   "outputs": [
    {
     "data": {
      "text/plain": [
       "49988"
      ]
     },
     "execution_count": 393,
     "metadata": {},
     "output_type": "execute_result"
    }
   ],
   "source": [
    "len(music_df)"
   ]
  },
  {
   "cell_type": "markdown",
   "metadata": {},
   "source": [
    "### 2. Feature Engineering"
   ]
  },
  {
   "cell_type": "code",
   "execution_count": 394,
   "metadata": {},
   "outputs": [],
   "source": [
    "from sklearn.preprocessing import StandardScaler, MultiLabelBinarizer\n",
    "from sklearn.compose import ColumnTransformer\n",
    "from sklearn.pipeline import Pipeline\n"
   ]
  },
  {
   "cell_type": "code",
   "execution_count": 395,
   "metadata": {},
   "outputs": [],
   "source": [
    "# drop genre, tags and spotify fields\n",
    "music_df.drop(columns=['genre', 'tags', 'spotify_preview_url', 'spotify_id'], inplace=True)"
   ]
  },
  {
   "cell_type": "markdown",
   "metadata": {},
   "source": [
    "#### 2.1 Numerical scaling"
   ]
  },
  {
   "cell_type": "code",
   "execution_count": 396,
   "metadata": {},
   "outputs": [],
   "source": [
    "# numeric features and transformer\n",
    "numeric_features = ['year', 'duration_ms', 'danceability', 'energy', 'key', 'loudness', 'mode', 'speechiness', \n",
    "                    'acousticness', 'instrumentalness', 'liveness', 'valence', 'tempo', 'time_signature']\n",
    "numeric_transformer = Pipeline(steps=[\n",
    "    ('scaler', StandardScaler())])\n"
   ]
  },
  {
   "cell_type": "code",
   "execution_count": 397,
   "metadata": {},
   "outputs": [],
   "source": [
    "preprocessor = ColumnTransformer(\n",
    "    transformers=[\n",
    "        ('num', numeric_transformer, numeric_features)])"
   ]
  },
  {
   "cell_type": "code",
   "execution_count": 398,
   "metadata": {},
   "outputs": [],
   "source": [
    "numeric_processed = preprocessor.fit_transform(music_df)"
   ]
  },
  {
   "cell_type": "code",
   "execution_count": 399,
   "metadata": {},
   "outputs": [
    {
     "data": {
      "text/plain": [
       "(49988, 14)"
      ]
     },
     "execution_count": 399,
     "metadata": {},
     "output_type": "execute_result"
    }
   ],
   "source": [
    "numeric_processed.shape"
   ]
  },
  {
   "cell_type": "markdown",
   "metadata": {},
   "source": [
    "#### 2.2 Genre one-hot encoding"
   ]
  },
  {
   "cell_type": "code",
   "execution_count": 400,
   "metadata": {},
   "outputs": [],
   "source": [
    "# tagsplus string to list\n",
    "tagsplus_df = music_df['tagsplus'].apply(lambda x: x.split(', ') if isinstance(x, str) else [])"
   ]
  },
  {
   "cell_type": "code",
   "execution_count": 401,
   "metadata": {},
   "outputs": [],
   "source": [
    "# use multilabelbinarizer to encode tagsplus\n",
    "mlb = MultiLabelBinarizer()\n",
    "\n",
    "genre_encoded = mlb.fit_transform(tagsplus_df)\n",
    "\n",
    "genre_df = pd.DataFrame(genre_encoded, columns=mlb.classes_, index=tagsplus_df.index)"
   ]
  },
  {
   "cell_type": "code",
   "execution_count": 402,
   "metadata": {},
   "outputs": [
    {
     "data": {
      "text/html": [
       "<div>\n",
       "<style scoped>\n",
       "    .dataframe tbody tr th:only-of-type {\n",
       "        vertical-align: middle;\n",
       "    }\n",
       "\n",
       "    .dataframe tbody tr th {\n",
       "        vertical-align: top;\n",
       "    }\n",
       "\n",
       "    .dataframe thead th {\n",
       "        text-align: right;\n",
       "    }\n",
       "</style>\n",
       "<table border=\"1\" class=\"dataframe\">\n",
       "  <thead>\n",
       "    <tr style=\"text-align: right;\">\n",
       "      <th></th>\n",
       "      <th>00s</th>\n",
       "      <th>60s</th>\n",
       "      <th>70s</th>\n",
       "      <th>80s</th>\n",
       "      <th>90s</th>\n",
       "      <th>acoustic</th>\n",
       "      <th>alternative</th>\n",
       "      <th>alternative_rock</th>\n",
       "      <th>ambient</th>\n",
       "      <th>american</th>\n",
       "      <th>...</th>\n",
       "      <th>soul</th>\n",
       "      <th>soundtrack</th>\n",
       "      <th>swedish</th>\n",
       "      <th>symphonic_metal</th>\n",
       "      <th>synthpop</th>\n",
       "      <th>techno</th>\n",
       "      <th>thrash_metal</th>\n",
       "      <th>trance</th>\n",
       "      <th>trip_hop</th>\n",
       "      <th>world</th>\n",
       "    </tr>\n",
       "  </thead>\n",
       "  <tbody>\n",
       "    <tr>\n",
       "      <th>0</th>\n",
       "      <td>1</td>\n",
       "      <td>0</td>\n",
       "      <td>0</td>\n",
       "      <td>0</td>\n",
       "      <td>0</td>\n",
       "      <td>0</td>\n",
       "      <td>1</td>\n",
       "      <td>1</td>\n",
       "      <td>0</td>\n",
       "      <td>0</td>\n",
       "      <td>...</td>\n",
       "      <td>0</td>\n",
       "      <td>0</td>\n",
       "      <td>0</td>\n",
       "      <td>0</td>\n",
       "      <td>0</td>\n",
       "      <td>0</td>\n",
       "      <td>0</td>\n",
       "      <td>0</td>\n",
       "      <td>0</td>\n",
       "      <td>0</td>\n",
       "    </tr>\n",
       "    <tr>\n",
       "      <th>1</th>\n",
       "      <td>0</td>\n",
       "      <td>0</td>\n",
       "      <td>0</td>\n",
       "      <td>0</td>\n",
       "      <td>1</td>\n",
       "      <td>0</td>\n",
       "      <td>1</td>\n",
       "      <td>1</td>\n",
       "      <td>0</td>\n",
       "      <td>0</td>\n",
       "      <td>...</td>\n",
       "      <td>0</td>\n",
       "      <td>0</td>\n",
       "      <td>0</td>\n",
       "      <td>0</td>\n",
       "      <td>0</td>\n",
       "      <td>0</td>\n",
       "      <td>0</td>\n",
       "      <td>0</td>\n",
       "      <td>0</td>\n",
       "      <td>0</td>\n",
       "    </tr>\n",
       "    <tr>\n",
       "      <th>2</th>\n",
       "      <td>0</td>\n",
       "      <td>0</td>\n",
       "      <td>0</td>\n",
       "      <td>0</td>\n",
       "      <td>1</td>\n",
       "      <td>0</td>\n",
       "      <td>1</td>\n",
       "      <td>1</td>\n",
       "      <td>0</td>\n",
       "      <td>0</td>\n",
       "      <td>...</td>\n",
       "      <td>0</td>\n",
       "      <td>0</td>\n",
       "      <td>0</td>\n",
       "      <td>0</td>\n",
       "      <td>0</td>\n",
       "      <td>0</td>\n",
       "      <td>0</td>\n",
       "      <td>0</td>\n",
       "      <td>0</td>\n",
       "      <td>0</td>\n",
       "    </tr>\n",
       "    <tr>\n",
       "      <th>3</th>\n",
       "      <td>1</td>\n",
       "      <td>0</td>\n",
       "      <td>0</td>\n",
       "      <td>0</td>\n",
       "      <td>0</td>\n",
       "      <td>0</td>\n",
       "      <td>1</td>\n",
       "      <td>1</td>\n",
       "      <td>0</td>\n",
       "      <td>0</td>\n",
       "      <td>...</td>\n",
       "      <td>0</td>\n",
       "      <td>0</td>\n",
       "      <td>0</td>\n",
       "      <td>0</td>\n",
       "      <td>0</td>\n",
       "      <td>0</td>\n",
       "      <td>0</td>\n",
       "      <td>0</td>\n",
       "      <td>0</td>\n",
       "      <td>0</td>\n",
       "    </tr>\n",
       "    <tr>\n",
       "      <th>4</th>\n",
       "      <td>0</td>\n",
       "      <td>0</td>\n",
       "      <td>0</td>\n",
       "      <td>0</td>\n",
       "      <td>1</td>\n",
       "      <td>0</td>\n",
       "      <td>1</td>\n",
       "      <td>1</td>\n",
       "      <td>0</td>\n",
       "      <td>0</td>\n",
       "      <td>...</td>\n",
       "      <td>0</td>\n",
       "      <td>0</td>\n",
       "      <td>0</td>\n",
       "      <td>0</td>\n",
       "      <td>0</td>\n",
       "      <td>0</td>\n",
       "      <td>0</td>\n",
       "      <td>0</td>\n",
       "      <td>0</td>\n",
       "      <td>0</td>\n",
       "    </tr>\n",
       "  </tbody>\n",
       "</table>\n",
       "<p>5 rows × 103 columns</p>\n",
       "</div>"
      ],
      "text/plain": [
       "   00s  60s  70s  80s  90s  acoustic  alternative  alternative_rock  ambient  \\\n",
       "0    1    0    0    0    0         0            1                 1        0   \n",
       "1    0    0    0    0    1         0            1                 1        0   \n",
       "2    0    0    0    0    1         0            1                 1        0   \n",
       "3    1    0    0    0    0         0            1                 1        0   \n",
       "4    0    0    0    0    1         0            1                 1        0   \n",
       "\n",
       "   american  ...  soul  soundtrack  swedish  symphonic_metal  synthpop  \\\n",
       "0         0  ...     0           0        0                0         0   \n",
       "1         0  ...     0           0        0                0         0   \n",
       "2         0  ...     0           0        0                0         0   \n",
       "3         0  ...     0           0        0                0         0   \n",
       "4         0  ...     0           0        0                0         0   \n",
       "\n",
       "   techno  thrash_metal  trance  trip_hop  world  \n",
       "0       0             0       0         0      0  \n",
       "1       0             0       0         0      0  \n",
       "2       0             0       0         0      0  \n",
       "3       0             0       0         0      0  \n",
       "4       0             0       0         0      0  \n",
       "\n",
       "[5 rows x 103 columns]"
      ]
     },
     "execution_count": 402,
     "metadata": {},
     "output_type": "execute_result"
    }
   ],
   "source": [
    "genre_df.head()"
   ]
  },
  {
   "cell_type": "code",
   "execution_count": 403,
   "metadata": {},
   "outputs": [],
   "source": [
    "# re-merge list of numeric_features with genre_df dataframe\n",
    "features_df = pd.concat([pd.DataFrame(numeric_processed, columns=numeric_features, index=music_df.index), genre_df], axis=1)\n"
   ]
  },
  {
   "cell_type": "code",
   "execution_count": 404,
   "metadata": {},
   "outputs": [],
   "source": [
    "# add track_id, name and artist to features_df\n",
    "features_df = pd.concat([music_df[['track_id', 'name', 'artist']], features_df], axis=1)\n"
   ]
  },
  {
   "cell_type": "code",
   "execution_count": 405,
   "metadata": {},
   "outputs": [
    {
     "data": {
      "text/plain": [
       "49988"
      ]
     },
     "execution_count": 405,
     "metadata": {},
     "output_type": "execute_result"
    }
   ],
   "source": [
    "len(features_df)"
   ]
  },
  {
   "cell_type": "code",
   "execution_count": 406,
   "metadata": {},
   "outputs": [
    {
     "data": {
      "text/html": [
       "<div>\n",
       "<style scoped>\n",
       "    .dataframe tbody tr th:only-of-type {\n",
       "        vertical-align: middle;\n",
       "    }\n",
       "\n",
       "    .dataframe tbody tr th {\n",
       "        vertical-align: top;\n",
       "    }\n",
       "\n",
       "    .dataframe thead th {\n",
       "        text-align: right;\n",
       "    }\n",
       "</style>\n",
       "<table border=\"1\" class=\"dataframe\">\n",
       "  <thead>\n",
       "    <tr style=\"text-align: right;\">\n",
       "      <th></th>\n",
       "      <th>track_id</th>\n",
       "      <th>name</th>\n",
       "      <th>artist</th>\n",
       "      <th>year</th>\n",
       "      <th>duration_ms</th>\n",
       "      <th>danceability</th>\n",
       "      <th>energy</th>\n",
       "      <th>key</th>\n",
       "      <th>loudness</th>\n",
       "      <th>mode</th>\n",
       "      <th>...</th>\n",
       "      <th>soul</th>\n",
       "      <th>soundtrack</th>\n",
       "      <th>swedish</th>\n",
       "      <th>symphonic_metal</th>\n",
       "      <th>synthpop</th>\n",
       "      <th>techno</th>\n",
       "      <th>thrash_metal</th>\n",
       "      <th>trance</th>\n",
       "      <th>trip_hop</th>\n",
       "      <th>world</th>\n",
       "    </tr>\n",
       "  </thead>\n",
       "  <tbody>\n",
       "    <tr>\n",
       "      <th>0</th>\n",
       "      <td>TRIOREW128F424EAF0</td>\n",
       "      <td>Mr. Brightside</td>\n",
       "      <td>The Killers</td>\n",
       "      <td>0.000849</td>\n",
       "      <td>-0.266861</td>\n",
       "      <td>-0.774918</td>\n",
       "      <td>0.921271</td>\n",
       "      <td>-1.208266</td>\n",
       "      <td>0.864513</td>\n",
       "      <td>0.763151</td>\n",
       "      <td>...</td>\n",
       "      <td>0</td>\n",
       "      <td>0</td>\n",
       "      <td>0</td>\n",
       "      <td>0</td>\n",
       "      <td>0</td>\n",
       "      <td>0</td>\n",
       "      <td>0</td>\n",
       "      <td>0</td>\n",
       "      <td>0</td>\n",
       "      <td>0</td>\n",
       "    </tr>\n",
       "    <tr>\n",
       "      <th>1</th>\n",
       "      <td>TRRIVDJ128F429B0E8</td>\n",
       "      <td>Wonderwall</td>\n",
       "      <td>Oasis</td>\n",
       "      <td>0.226113</td>\n",
       "      <td>0.071953</td>\n",
       "      <td>-0.472605</td>\n",
       "      <td>0.818013</td>\n",
       "      <td>-0.928036</td>\n",
       "      <td>0.861657</td>\n",
       "      <td>0.763151</td>\n",
       "      <td>...</td>\n",
       "      <td>0</td>\n",
       "      <td>0</td>\n",
       "      <td>0</td>\n",
       "      <td>0</td>\n",
       "      <td>0</td>\n",
       "      <td>0</td>\n",
       "      <td>0</td>\n",
       "      <td>0</td>\n",
       "      <td>0</td>\n",
       "      <td>0</td>\n",
       "    </tr>\n",
       "    <tr>\n",
       "      <th>2</th>\n",
       "      <td>TROUVHL128F426C441</td>\n",
       "      <td>Come as You Are</td>\n",
       "      <td>Nirvana</td>\n",
       "      <td>-1.463366</td>\n",
       "      <td>-0.297381</td>\n",
       "      <td>0.081637</td>\n",
       "      <td>0.555897</td>\n",
       "      <td>-0.367576</td>\n",
       "      <td>0.551888</td>\n",
       "      <td>-1.310357</td>\n",
       "      <td>...</td>\n",
       "      <td>0</td>\n",
       "      <td>0</td>\n",
       "      <td>0</td>\n",
       "      <td>0</td>\n",
       "      <td>0</td>\n",
       "      <td>0</td>\n",
       "      <td>0</td>\n",
       "      <td>0</td>\n",
       "      <td>0</td>\n",
       "      <td>0</td>\n",
       "    </tr>\n",
       "    <tr>\n",
       "      <th>3</th>\n",
       "      <td>TRUEIND128F93038C4</td>\n",
       "      <td>Take Me Out</td>\n",
       "      <td>Franz Ferdinand</td>\n",
       "      <td>0.000849</td>\n",
       "      <td>-0.128909</td>\n",
       "      <td>-1.200397</td>\n",
       "      <td>-0.087478</td>\n",
       "      <td>1.033573</td>\n",
       "      <td>-0.122133</td>\n",
       "      <td>0.763151</td>\n",
       "      <td>...</td>\n",
       "      <td>0</td>\n",
       "      <td>0</td>\n",
       "      <td>0</td>\n",
       "      <td>0</td>\n",
       "      <td>0</td>\n",
       "      <td>0</td>\n",
       "      <td>0</td>\n",
       "      <td>0</td>\n",
       "      <td>0</td>\n",
       "      <td>0</td>\n",
       "    </tr>\n",
       "    <tr>\n",
       "      <th>4</th>\n",
       "      <td>TRLNZBD128F935E4D8</td>\n",
       "      <td>Creep</td>\n",
       "      <td>Radiohead</td>\n",
       "      <td>0.451377</td>\n",
       "      <td>-0.113891</td>\n",
       "      <td>0.120826</td>\n",
       "      <td>-1.016799</td>\n",
       "      <td>0.473114</td>\n",
       "      <td>-0.360281</td>\n",
       "      <td>0.763151</td>\n",
       "      <td>...</td>\n",
       "      <td>0</td>\n",
       "      <td>0</td>\n",
       "      <td>0</td>\n",
       "      <td>0</td>\n",
       "      <td>0</td>\n",
       "      <td>0</td>\n",
       "      <td>0</td>\n",
       "      <td>0</td>\n",
       "      <td>0</td>\n",
       "      <td>0</td>\n",
       "    </tr>\n",
       "  </tbody>\n",
       "</table>\n",
       "<p>5 rows × 120 columns</p>\n",
       "</div>"
      ],
      "text/plain": [
       "             track_id             name           artist      year  \\\n",
       "0  TRIOREW128F424EAF0   Mr. Brightside      The Killers  0.000849   \n",
       "1  TRRIVDJ128F429B0E8       Wonderwall            Oasis  0.226113   \n",
       "2  TROUVHL128F426C441  Come as You Are          Nirvana -1.463366   \n",
       "3  TRUEIND128F93038C4      Take Me Out  Franz Ferdinand  0.000849   \n",
       "4  TRLNZBD128F935E4D8            Creep        Radiohead  0.451377   \n",
       "\n",
       "   duration_ms  danceability    energy       key  loudness      mode  ...  \\\n",
       "0    -0.266861     -0.774918  0.921271 -1.208266  0.864513  0.763151  ...   \n",
       "1     0.071953     -0.472605  0.818013 -0.928036  0.861657  0.763151  ...   \n",
       "2    -0.297381      0.081637  0.555897 -0.367576  0.551888 -1.310357  ...   \n",
       "3    -0.128909     -1.200397 -0.087478  1.033573 -0.122133  0.763151  ...   \n",
       "4    -0.113891      0.120826 -1.016799  0.473114 -0.360281  0.763151  ...   \n",
       "\n",
       "   soul  soundtrack  swedish  symphonic_metal  synthpop  techno  thrash_metal  \\\n",
       "0     0           0        0                0         0       0             0   \n",
       "1     0           0        0                0         0       0             0   \n",
       "2     0           0        0                0         0       0             0   \n",
       "3     0           0        0                0         0       0             0   \n",
       "4     0           0        0                0         0       0             0   \n",
       "\n",
       "   trance  trip_hop  world  \n",
       "0       0         0      0  \n",
       "1       0         0      0  \n",
       "2       0         0      0  \n",
       "3       0         0      0  \n",
       "4       0         0      0  \n",
       "\n",
       "[5 rows x 120 columns]"
      ]
     },
     "execution_count": 406,
     "metadata": {},
     "output_type": "execute_result"
    }
   ],
   "source": [
    "features_df.head()"
   ]
  },
  {
   "cell_type": "markdown",
   "metadata": {},
   "source": [
    "#### 2.3 User playcounts scaling"
   ]
  },
  {
   "cell_type": "code",
   "execution_count": 407,
   "metadata": {},
   "outputs": [],
   "source": [
    "from sklearn.preprocessing import MinMaxScaler\n",
    "\n",
    "# Initialize the scaler, specifying the range. scikit-surprise default is (1, 5)\n",
    "scaler = MinMaxScaler(feature_range=(1, 5))\n",
    "\n",
    "# Transform the playcount column\n",
    "user_df['playcount_scale'] = scaler.fit_transform(user_df['playcount'].values.reshape(-1, 1))"
   ]
  },
  {
   "cell_type": "code",
   "execution_count": 408,
   "metadata": {},
   "outputs": [
    {
     "data": {
      "text/html": [
       "<div>\n",
       "<style scoped>\n",
       "    .dataframe tbody tr th:only-of-type {\n",
       "        vertical-align: middle;\n",
       "    }\n",
       "\n",
       "    .dataframe tbody tr th {\n",
       "        vertical-align: top;\n",
       "    }\n",
       "\n",
       "    .dataframe thead th {\n",
       "        text-align: right;\n",
       "    }\n",
       "</style>\n",
       "<table border=\"1\" class=\"dataframe\">\n",
       "  <thead>\n",
       "    <tr style=\"text-align: right;\">\n",
       "      <th></th>\n",
       "      <th>track_id</th>\n",
       "      <th>user_id</th>\n",
       "      <th>playcount</th>\n",
       "    </tr>\n",
       "  </thead>\n",
       "  <tbody>\n",
       "    <tr>\n",
       "      <th>0</th>\n",
       "      <td>TRIRLYL128F42539D1</td>\n",
       "      <td>b80344d063b5ccb3212f76538f3d9e43d87dca9e</td>\n",
       "      <td>1.0</td>\n",
       "    </tr>\n",
       "    <tr>\n",
       "      <th>1</th>\n",
       "      <td>TRFUPBA128F934F7E1</td>\n",
       "      <td>b80344d063b5ccb3212f76538f3d9e43d87dca9e</td>\n",
       "      <td>1.0</td>\n",
       "    </tr>\n",
       "    <tr>\n",
       "      <th>2</th>\n",
       "      <td>TRLQPQJ128F42AA94F</td>\n",
       "      <td>b80344d063b5ccb3212f76538f3d9e43d87dca9e</td>\n",
       "      <td>1.0</td>\n",
       "    </tr>\n",
       "    <tr>\n",
       "      <th>3</th>\n",
       "      <td>TRTUCUY128F92E1D24</td>\n",
       "      <td>b80344d063b5ccb3212f76538f3d9e43d87dca9e</td>\n",
       "      <td>1.0</td>\n",
       "    </tr>\n",
       "    <tr>\n",
       "      <th>4</th>\n",
       "      <td>TRHDDQG12903CB53EE</td>\n",
       "      <td>b80344d063b5ccb3212f76538f3d9e43d87dca9e</td>\n",
       "      <td>1.0</td>\n",
       "    </tr>\n",
       "  </tbody>\n",
       "</table>\n",
       "</div>"
      ],
      "text/plain": [
       "             track_id                                   user_id  playcount\n",
       "0  TRIRLYL128F42539D1  b80344d063b5ccb3212f76538f3d9e43d87dca9e        1.0\n",
       "1  TRFUPBA128F934F7E1  b80344d063b5ccb3212f76538f3d9e43d87dca9e        1.0\n",
       "2  TRLQPQJ128F42AA94F  b80344d063b5ccb3212f76538f3d9e43d87dca9e        1.0\n",
       "3  TRTUCUY128F92E1D24  b80344d063b5ccb3212f76538f3d9e43d87dca9e        1.0\n",
       "4  TRHDDQG12903CB53EE  b80344d063b5ccb3212f76538f3d9e43d87dca9e        1.0"
      ]
     },
     "execution_count": 408,
     "metadata": {},
     "output_type": "execute_result"
    }
   ],
   "source": [
    "# replace playcount w scaled\n",
    "user_df['playcount'] = user_df['playcount_scale']\n",
    "user_df.drop(columns=['playcount_scale'], inplace=True)\n",
    "\n",
    "user_df.head()"
   ]
  },
  {
   "cell_type": "markdown",
   "metadata": {},
   "source": [
    "#### 2.4 Dataset consistency"
   ]
  },
  {
   "cell_type": "code",
   "execution_count": 409,
   "metadata": {},
   "outputs": [],
   "source": [
    "# remove tracks from user_df that are not in music_df\n",
    "user_df = user_df[user_df['track_id'].isin(features_df['track_id'])]\n",
    "\n",
    "# remove tracks from music_df that are not in user_df\n",
    "features_df = features_df[features_df['track_id'].isin(user_df['track_id'])]"
   ]
  },
  {
   "cell_type": "code",
   "execution_count": 410,
   "metadata": {},
   "outputs": [
    {
     "data": {
      "text/plain": [
       "True"
      ]
     },
     "execution_count": 410,
     "metadata": {},
     "output_type": "execute_result"
    }
   ],
   "source": [
    "# sanity check\n",
    "len(features_df['track_id'].unique()) == len(user_df['track_id'].unique())"
   ]
  },
  {
   "cell_type": "code",
   "execution_count": 411,
   "metadata": {},
   "outputs": [],
   "source": [
    "# reset indices\n",
    "user_df.reset_index(drop=True, inplace=True)\n",
    "features_df.reset_index(drop=True, inplace=True)"
   ]
  },
  {
   "cell_type": "markdown",
   "metadata": {},
   "source": [
    "#### 2.5 Encode track_id and user_id"
   ]
  },
  {
   "cell_type": "code",
   "execution_count": 412,
   "metadata": {},
   "outputs": [
    {
     "name": "stdout",
     "output_type": "stream",
     "text": [
      "Number of unique track_id's in user_df:  30092\n",
      "Number of unique track_id's in music_df:  30092\n"
     ]
    }
   ],
   "source": [
    "# count unique track_id's in both dataframes\n",
    "print('Number of unique track_id\\'s in user_df: ', user_df['track_id'].nunique())\n",
    "print('Number of unique track_id\\'s in music_df: ', features_df['track_id'].nunique())"
   ]
  },
  {
   "cell_type": "code",
   "execution_count": 413,
   "metadata": {},
   "outputs": [],
   "source": [
    "# encode track_id as numeric in both dataframes\n",
    "track_id_to_numeric = {track_id: i for i, track_id in enumerate(features_df['track_id'])}"
   ]
  },
  {
   "cell_type": "code",
   "execution_count": 414,
   "metadata": {},
   "outputs": [],
   "source": [
    "# double-check uniques\n",
    "user_df['track_id_enc'] = user_df['track_id'].map(track_id_to_numeric)\n",
    "features_df['track_id_enc'] = features_df['track_id'].map(track_id_to_numeric)"
   ]
  },
  {
   "cell_type": "code",
   "execution_count": 415,
   "metadata": {},
   "outputs": [
    {
     "name": "stdout",
     "output_type": "stream",
     "text": [
      "Number of unique track_id's in user_df:  30092\n",
      "Number of unique track_id's in music_df:  30092\n"
     ]
    }
   ],
   "source": [
    "# sanity check: count unique track_id's in both dataframes... again\n",
    "print('Number of unique track_id\\'s in user_df: ', user_df['track_id_enc'].nunique())\n",
    "print('Number of unique track_id\\'s in music_df: ', features_df['track_id_enc'].nunique())\n"
   ]
  },
  {
   "cell_type": "code",
   "execution_count": 416,
   "metadata": {},
   "outputs": [
    {
     "data": {
      "text/plain": [
       "array([ True])"
      ]
     },
     "execution_count": 416,
     "metadata": {},
     "output_type": "execute_result"
    }
   ],
   "source": [
    "# test if encoding worked\n",
    "# for track_id_enc = 10705, check if track_id in other dataframe has the same values\n",
    "user_df[user_df['track_id_enc'] == 10705]['track_id'].unique() == features_df[features_df['track_id_enc'] == 10705]['track_id'].unique()"
   ]
  },
  {
   "cell_type": "code",
   "execution_count": 417,
   "metadata": {},
   "outputs": [
    {
     "data": {
      "text/plain": [
       "961452"
      ]
     },
     "execution_count": 417,
     "metadata": {},
     "output_type": "execute_result"
    }
   ],
   "source": [
    "# unique user_id's in user_df\n",
    "user_df['user_id'].nunique()"
   ]
  },
  {
   "cell_type": "code",
   "execution_count": 418,
   "metadata": {},
   "outputs": [],
   "source": [
    "# encode user_id in user_df dataframe\n",
    "user_df['user_id'] = user_df['user_id'].astype('category')\n",
    "user_df['user_id_enc'] = user_df['user_id'].cat.codes"
   ]
  },
  {
   "cell_type": "code",
   "execution_count": 419,
   "metadata": {},
   "outputs": [
    {
     "data": {
      "text/plain": [
       "961452"
      ]
     },
     "execution_count": 419,
     "metadata": {},
     "output_type": "execute_result"
    }
   ],
   "source": [
    "# verify unique user_id's in user_df\n",
    "user_df['user_id'].nunique()"
   ]
  },
  {
   "cell_type": "code",
   "execution_count": 420,
   "metadata": {},
   "outputs": [],
   "source": [
    "# replace original ids with encoded ids\n",
    "user_df['track_id'] = user_df['track_id_enc']\n",
    "user_df['user_id'] = user_df['user_id_enc']\n",
    "features_df['track_id'] = features_df['track_id_enc']"
   ]
  },
  {
   "cell_type": "code",
   "execution_count": 421,
   "metadata": {},
   "outputs": [],
   "source": [
    "# drop encoded columns\n",
    "user_df.drop(columns=['track_id_enc', 'user_id_enc'], inplace=True)\n",
    "features_df.drop(columns=['track_id_enc'], inplace=True)"
   ]
  },
  {
   "cell_type": "markdown",
   "metadata": {},
   "source": [
    "### Wrapping up"
   ]
  },
  {
   "cell_type": "code",
   "execution_count": 422,
   "metadata": {},
   "outputs": [
    {
     "data": {
      "text/html": [
       "<div>\n",
       "<style scoped>\n",
       "    .dataframe tbody tr th:only-of-type {\n",
       "        vertical-align: middle;\n",
       "    }\n",
       "\n",
       "    .dataframe tbody tr th {\n",
       "        vertical-align: top;\n",
       "    }\n",
       "\n",
       "    .dataframe thead th {\n",
       "        text-align: right;\n",
       "    }\n",
       "</style>\n",
       "<table border=\"1\" class=\"dataframe\">\n",
       "  <thead>\n",
       "    <tr style=\"text-align: right;\">\n",
       "      <th></th>\n",
       "      <th>track_id</th>\n",
       "      <th>user_id</th>\n",
       "      <th>playcount</th>\n",
       "    </tr>\n",
       "  </thead>\n",
       "  <tbody>\n",
       "    <tr>\n",
       "      <th>0</th>\n",
       "      <td>16173</td>\n",
       "      <td>690941</td>\n",
       "      <td>1.0</td>\n",
       "    </tr>\n",
       "    <tr>\n",
       "      <th>1</th>\n",
       "      <td>1166</td>\n",
       "      <td>690941</td>\n",
       "      <td>1.0</td>\n",
       "    </tr>\n",
       "    <tr>\n",
       "      <th>2</th>\n",
       "      <td>22624</td>\n",
       "      <td>690941</td>\n",
       "      <td>1.0</td>\n",
       "    </tr>\n",
       "    <tr>\n",
       "      <th>3</th>\n",
       "      <td>2993</td>\n",
       "      <td>690941</td>\n",
       "      <td>1.0</td>\n",
       "    </tr>\n",
       "    <tr>\n",
       "      <th>4</th>\n",
       "      <td>1368</td>\n",
       "      <td>690941</td>\n",
       "      <td>1.0</td>\n",
       "    </tr>\n",
       "  </tbody>\n",
       "</table>\n",
       "</div>"
      ],
      "text/plain": [
       "   track_id  user_id  playcount\n",
       "0     16173   690941        1.0\n",
       "1      1166   690941        1.0\n",
       "2     22624   690941        1.0\n",
       "3      2993   690941        1.0\n",
       "4      1368   690941        1.0"
      ]
     },
     "execution_count": 422,
     "metadata": {},
     "output_type": "execute_result"
    }
   ],
   "source": [
    "user_df.head()"
   ]
  },
  {
   "cell_type": "code",
   "execution_count": 423,
   "metadata": {},
   "outputs": [
    {
     "data": {
      "text/html": [
       "<div>\n",
       "<style scoped>\n",
       "    .dataframe tbody tr th:only-of-type {\n",
       "        vertical-align: middle;\n",
       "    }\n",
       "\n",
       "    .dataframe tbody tr th {\n",
       "        vertical-align: top;\n",
       "    }\n",
       "\n",
       "    .dataframe thead th {\n",
       "        text-align: right;\n",
       "    }\n",
       "</style>\n",
       "<table border=\"1\" class=\"dataframe\">\n",
       "  <thead>\n",
       "    <tr style=\"text-align: right;\">\n",
       "      <th></th>\n",
       "      <th>track_id</th>\n",
       "      <th>name</th>\n",
       "      <th>artist</th>\n",
       "      <th>year</th>\n",
       "      <th>duration_ms</th>\n",
       "      <th>danceability</th>\n",
       "      <th>energy</th>\n",
       "      <th>key</th>\n",
       "      <th>loudness</th>\n",
       "      <th>mode</th>\n",
       "      <th>...</th>\n",
       "      <th>soul</th>\n",
       "      <th>soundtrack</th>\n",
       "      <th>swedish</th>\n",
       "      <th>symphonic_metal</th>\n",
       "      <th>synthpop</th>\n",
       "      <th>techno</th>\n",
       "      <th>thrash_metal</th>\n",
       "      <th>trance</th>\n",
       "      <th>trip_hop</th>\n",
       "      <th>world</th>\n",
       "    </tr>\n",
       "  </thead>\n",
       "  <tbody>\n",
       "    <tr>\n",
       "      <th>0</th>\n",
       "      <td>0</td>\n",
       "      <td>Mr. Brightside</td>\n",
       "      <td>The Killers</td>\n",
       "      <td>0.000849</td>\n",
       "      <td>-0.266861</td>\n",
       "      <td>-0.774918</td>\n",
       "      <td>0.921271</td>\n",
       "      <td>-1.208266</td>\n",
       "      <td>0.864513</td>\n",
       "      <td>0.763151</td>\n",
       "      <td>...</td>\n",
       "      <td>0</td>\n",
       "      <td>0</td>\n",
       "      <td>0</td>\n",
       "      <td>0</td>\n",
       "      <td>0</td>\n",
       "      <td>0</td>\n",
       "      <td>0</td>\n",
       "      <td>0</td>\n",
       "      <td>0</td>\n",
       "      <td>0</td>\n",
       "    </tr>\n",
       "    <tr>\n",
       "      <th>1</th>\n",
       "      <td>1</td>\n",
       "      <td>Wonderwall</td>\n",
       "      <td>Oasis</td>\n",
       "      <td>0.226113</td>\n",
       "      <td>0.071953</td>\n",
       "      <td>-0.472605</td>\n",
       "      <td>0.818013</td>\n",
       "      <td>-0.928036</td>\n",
       "      <td>0.861657</td>\n",
       "      <td>0.763151</td>\n",
       "      <td>...</td>\n",
       "      <td>0</td>\n",
       "      <td>0</td>\n",
       "      <td>0</td>\n",
       "      <td>0</td>\n",
       "      <td>0</td>\n",
       "      <td>0</td>\n",
       "      <td>0</td>\n",
       "      <td>0</td>\n",
       "      <td>0</td>\n",
       "      <td>0</td>\n",
       "    </tr>\n",
       "    <tr>\n",
       "      <th>2</th>\n",
       "      <td>2</td>\n",
       "      <td>Take Me Out</td>\n",
       "      <td>Franz Ferdinand</td>\n",
       "      <td>0.000849</td>\n",
       "      <td>-0.128909</td>\n",
       "      <td>-1.200397</td>\n",
       "      <td>-0.087478</td>\n",
       "      <td>1.033573</td>\n",
       "      <td>-0.122133</td>\n",
       "      <td>0.763151</td>\n",
       "      <td>...</td>\n",
       "      <td>0</td>\n",
       "      <td>0</td>\n",
       "      <td>0</td>\n",
       "      <td>0</td>\n",
       "      <td>0</td>\n",
       "      <td>0</td>\n",
       "      <td>0</td>\n",
       "      <td>0</td>\n",
       "      <td>0</td>\n",
       "      <td>0</td>\n",
       "    </tr>\n",
       "    <tr>\n",
       "      <th>3</th>\n",
       "      <td>3</td>\n",
       "      <td>Karma Police</td>\n",
       "      <td>Radiohead</td>\n",
       "      <td>-0.900206</td>\n",
       "      <td>0.122692</td>\n",
       "      <td>-0.746926</td>\n",
       "      <td>-0.718940</td>\n",
       "      <td>0.473114</td>\n",
       "      <td>-0.183208</td>\n",
       "      <td>0.763151</td>\n",
       "      <td>...</td>\n",
       "      <td>0</td>\n",
       "      <td>0</td>\n",
       "      <td>0</td>\n",
       "      <td>0</td>\n",
       "      <td>0</td>\n",
       "      <td>0</td>\n",
       "      <td>0</td>\n",
       "      <td>0</td>\n",
       "      <td>0</td>\n",
       "      <td>0</td>\n",
       "    </tr>\n",
       "    <tr>\n",
       "      <th>4</th>\n",
       "      <td>4</td>\n",
       "      <td>Clocks</td>\n",
       "      <td>Coldplay</td>\n",
       "      <td>-0.224414</td>\n",
       "      <td>0.530362</td>\n",
       "      <td>0.467927</td>\n",
       "      <td>0.250095</td>\n",
       "      <td>-0.087346</td>\n",
       "      <td>0.237286</td>\n",
       "      <td>-1.310357</td>\n",
       "      <td>...</td>\n",
       "      <td>0</td>\n",
       "      <td>0</td>\n",
       "      <td>0</td>\n",
       "      <td>0</td>\n",
       "      <td>0</td>\n",
       "      <td>0</td>\n",
       "      <td>0</td>\n",
       "      <td>0</td>\n",
       "      <td>0</td>\n",
       "      <td>0</td>\n",
       "    </tr>\n",
       "  </tbody>\n",
       "</table>\n",
       "<p>5 rows × 120 columns</p>\n",
       "</div>"
      ],
      "text/plain": [
       "   track_id            name           artist      year  duration_ms  \\\n",
       "0         0  Mr. Brightside      The Killers  0.000849    -0.266861   \n",
       "1         1      Wonderwall            Oasis  0.226113     0.071953   \n",
       "2         2     Take Me Out  Franz Ferdinand  0.000849    -0.128909   \n",
       "3         3    Karma Police        Radiohead -0.900206     0.122692   \n",
       "4         4          Clocks         Coldplay -0.224414     0.530362   \n",
       "\n",
       "   danceability    energy       key  loudness      mode  ...  soul  \\\n",
       "0     -0.774918  0.921271 -1.208266  0.864513  0.763151  ...     0   \n",
       "1     -0.472605  0.818013 -0.928036  0.861657  0.763151  ...     0   \n",
       "2     -1.200397 -0.087478  1.033573 -0.122133  0.763151  ...     0   \n",
       "3     -0.746926 -0.718940  0.473114 -0.183208  0.763151  ...     0   \n",
       "4      0.467927  0.250095 -0.087346  0.237286 -1.310357  ...     0   \n",
       "\n",
       "   soundtrack  swedish  symphonic_metal  synthpop  techno  thrash_metal  \\\n",
       "0           0        0                0         0       0             0   \n",
       "1           0        0                0         0       0             0   \n",
       "2           0        0                0         0       0             0   \n",
       "3           0        0                0         0       0             0   \n",
       "4           0        0                0         0       0             0   \n",
       "\n",
       "   trance  trip_hop  world  \n",
       "0       0         0      0  \n",
       "1       0         0      0  \n",
       "2       0         0      0  \n",
       "3       0         0      0  \n",
       "4       0         0      0  \n",
       "\n",
       "[5 rows x 120 columns]"
      ]
     },
     "execution_count": 423,
     "metadata": {},
     "output_type": "execute_result"
    }
   ],
   "source": [
    "features_df.head()"
   ]
  },
  {
   "cell_type": "code",
   "execution_count": 424,
   "metadata": {},
   "outputs": [],
   "source": [
    "# dataframe of track_id, name and artist\n",
    "titles = features_df[['track_id', 'name', 'artist']]"
   ]
  },
  {
   "cell_type": "code",
   "execution_count": 425,
   "metadata": {},
   "outputs": [
    {
     "data": {
      "text/plain": [
       "True"
      ]
     },
     "execution_count": 425,
     "metadata": {},
     "output_type": "execute_result"
    }
   ],
   "source": [
    "# test numbers\n",
    "len(features_df) == user_df['track_id'].nunique() == len(titles)"
   ]
  },
  {
   "cell_type": "code",
   "execution_count": 426,
   "metadata": {},
   "outputs": [],
   "source": [
    "import pickle\n",
    "pickle.dump(features_df, open('features.pkl', 'wb'))\n",
    "pickle.dump(user_df, open('playcounts.pkl', 'wb'))\n",
    "pickle.dump(titles, open('titles.pkl', 'wb'))"
   ]
  }
 ],
 "metadata": {
  "kernelspec": {
   "display_name": "Python 3 (ipykernel)",
   "language": "python",
   "name": "python3"
  },
  "language_info": {
   "codemirror_mode": {
    "name": "ipython",
    "version": 3
   },
   "file_extension": ".py",
   "mimetype": "text/x-python",
   "name": "python",
   "nbconvert_exporter": "python",
   "pygments_lexer": "ipython3",
   "version": "3.11.5"
  }
 },
 "nbformat": 4,
 "nbformat_minor": 5
}
