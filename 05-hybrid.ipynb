{
 "cells": [
  {
   "cell_type": "markdown",
   "metadata": {},
   "source": [
    "# Hybrid Recommender System\n",
    "### combine content-based and collaborative filtering"
   ]
  },
  {
   "cell_type": "code",
   "execution_count": 1,
   "metadata": {},
   "outputs": [],
   "source": [
    "import pandas as pd\n",
    "import numpy as np\n",
    "import pickle\n",
    "from surprise import KNNWithMeans"
   ]
  },
  {
   "cell_type": "code",
   "execution_count": 2,
   "metadata": {},
   "outputs": [],
   "source": [
    "# load cosine_matrix.pkl\n",
    "with open('cosine_matrix.pkl', 'rb') as f:\n",
    "    cosine_matrix = pickle.load(f)"
   ]
  },
  {
   "cell_type": "code",
   "execution_count": 3,
   "metadata": {},
   "outputs": [],
   "source": [
    "# load knn.pkl\n",
    "with open('knn_matrix.pkl', 'rb') as f:\n",
    "    knn_matrix = pickle.load(f)\n",
    "    "
   ]
  },
  {
   "cell_type": "code",
   "execution_count": 4,
   "metadata": {},
   "outputs": [],
   "source": [
    "# load titles.pkl\n",
    "with open('titles.pkl', 'rb') as f:\n",
    "    titles = pickle.load(f)"
   ]
  },
  {
   "cell_type": "markdown",
   "metadata": {},
   "source": [
    "#### weighted matrix"
   ]
  },
  {
   "cell_type": "code",
   "execution_count": 6,
   "metadata": {},
   "outputs": [],
   "source": [
    "# change weights if desired\n",
    "knn_sim_weight = 0.5\n",
    "cos_sim_weight = 0.5"
   ]
  },
  {
   "cell_type": "code",
   "execution_count": 7,
   "metadata": {},
   "outputs": [],
   "source": [
    "weighted_sim = (knn_sim_weight * knn_matrix) + (cos_sim_weight * cosine_matrix)"
   ]
  },
  {
   "cell_type": "markdown",
   "metadata": {},
   "source": [
    "### Retrieving top recommendations"
   ]
  },
  {
   "cell_type": "code",
   "execution_count": 8,
   "metadata": {},
   "outputs": [
    {
     "data": {
      "text/html": [
       "<div>\n",
       "<style scoped>\n",
       "    .dataframe tbody tr th:only-of-type {\n",
       "        vertical-align: middle;\n",
       "    }\n",
       "\n",
       "    .dataframe tbody tr th {\n",
       "        vertical-align: top;\n",
       "    }\n",
       "\n",
       "    .dataframe thead th {\n",
       "        text-align: right;\n",
       "    }\n",
       "</style>\n",
       "<table border=\"1\" class=\"dataframe\">\n",
       "  <thead>\n",
       "    <tr style=\"text-align: right;\">\n",
       "      <th></th>\n",
       "      <th>track_id</th>\n",
       "      <th>name</th>\n",
       "      <th>artist</th>\n",
       "    </tr>\n",
       "  </thead>\n",
       "  <tbody>\n",
       "    <tr>\n",
       "      <th>0</th>\n",
       "      <td>0</td>\n",
       "      <td>Mr. Brightside</td>\n",
       "      <td>The Killers</td>\n",
       "    </tr>\n",
       "    <tr>\n",
       "      <th>1</th>\n",
       "      <td>1</td>\n",
       "      <td>Wonderwall</td>\n",
       "      <td>Oasis</td>\n",
       "    </tr>\n",
       "    <tr>\n",
       "      <th>2</th>\n",
       "      <td>2</td>\n",
       "      <td>Take Me Out</td>\n",
       "      <td>Franz Ferdinand</td>\n",
       "    </tr>\n",
       "    <tr>\n",
       "      <th>3</th>\n",
       "      <td>3</td>\n",
       "      <td>Karma Police</td>\n",
       "      <td>Radiohead</td>\n",
       "    </tr>\n",
       "    <tr>\n",
       "      <th>4</th>\n",
       "      <td>4</td>\n",
       "      <td>Clocks</td>\n",
       "      <td>Coldplay</td>\n",
       "    </tr>\n",
       "  </tbody>\n",
       "</table>\n",
       "</div>"
      ],
      "text/plain": [
       "   track_id            name           artist\n",
       "0         0  Mr. Brightside      The Killers\n",
       "1         1      Wonderwall            Oasis\n",
       "2         2     Take Me Out  Franz Ferdinand\n",
       "3         3    Karma Police        Radiohead\n",
       "4         4          Clocks         Coldplay"
      ]
     },
     "execution_count": 8,
     "metadata": {},
     "output_type": "execute_result"
    }
   ],
   "source": [
    "titles.head()"
   ]
  },
  {
   "cell_type": "code",
   "execution_count": 9,
   "metadata": {},
   "outputs": [],
   "source": [
    "def get_track_id(artist, song):\n",
    "    '''Get index from titles where artist and song match'''\n",
    "    \n",
    "    try:\n",
    "        track_id = titles[(titles['artist'] == artist) & (titles['name'] == song)].index[0]\n",
    "        return track_id\n",
    "    except:\n",
    "        print('Song not found in database')\n",
    "        return None"
   ]
  },
  {
   "cell_type": "code",
   "execution_count": 10,
   "metadata": {},
   "outputs": [
    {
     "data": {
      "text/plain": [
       "1"
      ]
     },
     "execution_count": 10,
     "metadata": {},
     "output_type": "execute_result"
    }
   ],
   "source": [
    "# test\n",
    "get_track_id('Oasis', 'Wonderwall')"
   ]
  },
  {
   "cell_type": "code",
   "execution_count": 11,
   "metadata": {},
   "outputs": [],
   "source": [
    "def get_song(index):\n",
    "    '''Get song artist and name at index'''\n",
    "    try:\n",
    "        row = titles.iloc[index]\n",
    "        artist_song = row['artist'] + ' - ' + row['name']\n",
    "        return artist_song\n",
    "    except:\n",
    "        print('Index not found in database')\n",
    "        return None"
   ]
  },
  {
   "cell_type": "code",
   "execution_count": 12,
   "metadata": {},
   "outputs": [
    {
     "data": {
      "text/plain": [
       "'The Killers - Mr. Brightside'"
      ]
     },
     "execution_count": 12,
     "metadata": {},
     "output_type": "execute_result"
    }
   ],
   "source": [
    "# test\n",
    "get_song(0)"
   ]
  },
  {
   "cell_type": "code",
   "execution_count": 13,
   "metadata": {},
   "outputs": [],
   "source": [
    "def recommend_content(artist, title, sim_matrix):\n",
    "    '''Get similar songs using the similarity matrix'''\n",
    "    # get index for our song\n",
    "    idx = get_track_id(artist, title)\n",
    "    \n",
    "    # get similarity scores of all songs w.r.t to our song\n",
    "    sim_scores = list(enumerate(sim_matrix[idx]))\n",
    "    \n",
    "    # sort scores based on similarity\n",
    "    sorted_sim_scores = sorted(sim_scores, key=lambda x: x[1], reverse=True)\n",
    "    \n",
    "    # limit to 20 songs\n",
    "    sorted_sim_scores = sorted_sim_scores[1:20]\n",
    "\n",
    "    # get song artist and names\n",
    "    content_similar_scores = []\n",
    "    for i in sorted_sim_scores:\n",
    "        content_similar_scores.append(get_song(i[0]))\n",
    "    \n",
    "    return content_similar_scores"
   ]
  },
  {
   "cell_type": "code",
   "execution_count": 35,
   "metadata": {},
   "outputs": [
    {
     "data": {
      "text/html": [
       "<div>\n",
       "<style scoped>\n",
       "    .dataframe tbody tr th:only-of-type {\n",
       "        vertical-align: middle;\n",
       "    }\n",
       "\n",
       "    .dataframe tbody tr th {\n",
       "        vertical-align: top;\n",
       "    }\n",
       "\n",
       "    .dataframe thead th {\n",
       "        text-align: right;\n",
       "    }\n",
       "</style>\n",
       "<table border=\"1\" class=\"dataframe\">\n",
       "  <thead>\n",
       "    <tr style=\"text-align: right;\">\n",
       "      <th></th>\n",
       "      <th>artist</th>\n",
       "      <th>name</th>\n",
       "    </tr>\n",
       "  </thead>\n",
       "  <tbody>\n",
       "    <tr>\n",
       "      <th>10428</th>\n",
       "      <td>Wintersun</td>\n",
       "      <td>Sleeping Stars</td>\n",
       "    </tr>\n",
       "    <tr>\n",
       "      <th>8544</th>\n",
       "      <td>Flying Lotus</td>\n",
       "      <td>SexSlaveShip</td>\n",
       "    </tr>\n",
       "    <tr>\n",
       "      <th>12652</th>\n",
       "      <td>Q-Tip</td>\n",
       "      <td>Johnny Is Dead</td>\n",
       "    </tr>\n",
       "    <tr>\n",
       "      <th>14703</th>\n",
       "      <td>Black Lips</td>\n",
       "      <td>Navajo</td>\n",
       "    </tr>\n",
       "    <tr>\n",
       "      <th>13130</th>\n",
       "      <td>Hailee Steinfeld</td>\n",
       "      <td>Capital Letters</td>\n",
       "    </tr>\n",
       "    <tr>\n",
       "      <th>7400</th>\n",
       "      <td>The Hives</td>\n",
       "      <td>Diabolic Scheme</td>\n",
       "    </tr>\n",
       "    <tr>\n",
       "      <th>25418</th>\n",
       "      <td>Dying Fetus</td>\n",
       "      <td>Institutions Of Deceit</td>\n",
       "    </tr>\n",
       "    <tr>\n",
       "      <th>21123</th>\n",
       "      <td>The Raveonettes</td>\n",
       "      <td>Oh, I Buried You Today</td>\n",
       "    </tr>\n",
       "    <tr>\n",
       "      <th>14421</th>\n",
       "      <td>36 Crazyfists</td>\n",
       "      <td>All I Am</td>\n",
       "    </tr>\n",
       "    <tr>\n",
       "      <th>27131</th>\n",
       "      <td>Mike Oldfield</td>\n",
       "      <td>Musica Universalis</td>\n",
       "    </tr>\n",
       "  </tbody>\n",
       "</table>\n",
       "</div>"
      ],
      "text/plain": [
       "                 artist                    name\n",
       "10428         Wintersun          Sleeping Stars\n",
       "8544       Flying Lotus            SexSlaveShip\n",
       "12652             Q-Tip          Johnny Is Dead\n",
       "14703        Black Lips                  Navajo\n",
       "13130  Hailee Steinfeld         Capital Letters\n",
       "7400          The Hives         Diabolic Scheme\n",
       "25418       Dying Fetus  Institutions Of Deceit\n",
       "21123   The Raveonettes  Oh, I Buried You Today\n",
       "14421     36 Crazyfists                All I Am\n",
       "27131     Mike Oldfield      Musica Universalis"
      ]
     },
     "execution_count": 35,
     "metadata": {},
     "output_type": "execute_result"
    }
   ],
   "source": [
    "# select 10 random rows from titles and display artist and name\n",
    "titles.sample(10)[['artist', 'name']]"
   ]
  },
  {
   "cell_type": "code",
   "execution_count": 36,
   "metadata": {},
   "outputs": [
    {
     "data": {
      "text/plain": [
       "['Flying Lotus - Comet Course',\n",
       " 'Flying Lotus - Parisian Goldfish',\n",
       " 'Flying Lotus - GNG BNG',\n",
       " 'Flying Lotus - Beginners Falafel',\n",
       " 'RJD2 - The Horror',\n",
       " 'Holy Fuck - Latin America',\n",
       " 'Tricky - Nothing Matters',\n",
       " 'Thievery Corporation - The Numbers Game',\n",
       " 'Badmarsh & Shri - Gharana',\n",
       " 'FLYamSAM - The Offbeat',\n",
       " 'Black Moth Super Rainbow - Vietcaterpillar',\n",
       " 'Morcheeba - Bullet Proof',\n",
       " 'ill.Gates - Collateral Damage',\n",
       " 'Panzer AG - Bereit',\n",
       " 'Hird - Buddy Rich',\n",
       " 'Little People - Gravitas',\n",
       " 'Mr. Scruff - Ug',\n",
       " 'Deltron 3030 - Memory Loss',\n",
       " 'Massive Attack - Simple Rules']"
      ]
     },
     "execution_count": 36,
     "metadata": {},
     "output_type": "execute_result"
    }
   ],
   "source": [
    "# recommend_content test\n",
    "recommend_content('Flying Lotus', 'SexSlaveShip', weighted_sim)"
   ]
  },
  {
   "cell_type": "code",
   "execution_count": 27,
   "metadata": {},
   "outputs": [],
   "source": [
    "# store weighted_sim in pickle\n",
    "with open('weighted_sim.pkl', 'wb') as f:\n",
    "    pickle.dump(weighted_sim, f)"
   ]
  },
  {
   "cell_type": "code",
   "execution_count": null,
   "metadata": {},
   "outputs": [],
   "source": []
  }
 ],
 "metadata": {
  "kernelspec": {
   "display_name": "PAT",
   "language": "python",
   "name": "python3"
  },
  "language_info": {
   "codemirror_mode": {
    "name": "ipython",
    "version": 3
   },
   "file_extension": ".py",
   "mimetype": "text/x-python",
   "name": "python",
   "nbconvert_exporter": "python",
   "pygments_lexer": "ipython3",
   "version": "3.11.5"
  }
 },
 "nbformat": 4,
 "nbformat_minor": 2
}
