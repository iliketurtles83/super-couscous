{
 "cells": [
  {
   "attachments": {},
   "cell_type": "markdown",
   "id": "59970b46-480c-4d67-8a53-4eafabc4d80e",
   "metadata": {},
   "source": [
    "https://towardsdatascience.com/building-and-testing-recommender-systems-with-surprise-step-by-step-d4ba702ef80b\n",
    "\n",
    "https://gist.github.com/susanli2016/e0cdcf1bca69a2b144fd8c04f30b522f#file-benchmark-py"
   ]
  },
  {
   "cell_type": "code",
   "execution_count": 31,
   "id": "ae684224-937d-4326-a749-203755b55beb",
   "metadata": {},
   "outputs": [],
   "source": [
    "import pandas as pd\n",
    "from sklearn.preprocessing import StandardScaler\n",
    "from surprise import Reader, Dataset\n",
    "from surprise.model_selection import cross_validate"
   ]
  },
  {
   "cell_type": "code",
   "execution_count": 32,
   "id": "07b11f4f-4e4f-4d31-bcee-47e5e333167d",
   "metadata": {},
   "outputs": [],
   "source": [
    "# import our processed datasets\n",
    "playcounts = pd.read_pickle('playcounts.pkl')"
   ]
  },
  {
   "cell_type": "code",
   "execution_count": 33,
   "metadata": {},
   "outputs": [],
   "source": [
    "# subset of the data\n",
    "playcounts = playcounts.sample(frac=0.05, random_state=1)"
   ]
  },
  {
   "cell_type": "code",
   "execution_count": 34,
   "metadata": {},
   "outputs": [],
   "source": [
    "# max and min of playcount if you want to use it instead of scaled playcount\n",
    "min_pc = playcounts['playcount'].max()\n",
    "max_pc = playcounts['playcount'].min()\n",
    "playcounts['playcount_scale_2'] = playcounts['playcount'].apply(lambda x: (x-min_pc)/(max_pc-min_pc))\n"
   ]
  },
  {
   "cell_type": "code",
   "execution_count": 35,
   "metadata": {},
   "outputs": [],
   "source": [
    "# change playcount_scale to float16\n",
    "playcounts['playcount_scale_2'] = playcounts['playcount_scale_2'].astype('float16')\n"
   ]
  },
  {
   "cell_type": "code",
   "execution_count": 36,
   "metadata": {},
   "outputs": [],
   "source": [
    "playcounts = playcounts[['user_id', 'track_id', 'playcount_scale_2']]"
   ]
  },
  {
   "cell_type": "code",
   "execution_count": 37,
   "metadata": {},
   "outputs": [
    {
     "data": {
      "text/plain": [
       "user_id                int64\n",
       "track_id               int64\n",
       "playcount_scale_2    float16\n",
       "dtype: object"
      ]
     },
     "execution_count": 37,
     "metadata": {},
     "output_type": "execute_result"
    }
   ],
   "source": [
    "playcounts.dtypes"
   ]
  },
  {
   "cell_type": "code",
   "execution_count": 38,
   "id": "d2ddc64f-ef17-449d-a374-753421abd1d3",
   "metadata": {},
   "outputs": [],
   "source": [
    "# instantiate surprise.Reader()\n",
    "reader = Reader()\n",
    "\n",
    "# make surprise dataset\n",
    "data = Dataset.load_from_df(playcounts[['user_id', 'track_id', 'playcount_scale_2']], reader)"
   ]
  },
  {
   "cell_type": "code",
   "execution_count": 39,
   "id": "91721d35-03ac-45a7-98cf-ecb2f6866bdc",
   "metadata": {},
   "outputs": [],
   "source": [
    "# import surprise algos for benchmark\n",
    "from surprise import SVD, SlopeOne, SVDpp, KNNBasic, KNNBaseline, NormalPredictor, KNNWithMeans, KNNWithZScore, BaselineOnly, CoClustering"
   ]
  },
  {
   "cell_type": "code",
   "execution_count": 42,
   "id": "bb00c01b-e77d-49ab-a24d-083a0848f5de",
   "metadata": {},
   "outputs": [
    {
     "name": "stdout",
     "output_type": "stream",
     "text": [
      "<surprise.prediction_algorithms.matrix_factorization.SVD object at 0x7f53c2485d10>\n"
     ]
    },
    {
     "name": "stderr",
     "output_type": "stream",
     "text": [
      "/tmp/ipykernel_16888/4144819920.py:16: FutureWarning: The behavior of DataFrame concatenation with empty or all-NA entries is deprecated. In a future version, this will no longer exclude empty or all-NA columns when determining the result dtypes. To retain the old behavior, exclude the relevant entries before the concat operation.\n",
      "  benchmark = pd.concat([benchmark, algo_df], ignore_index=True)\n"
     ]
    },
    {
     "name": "stdout",
     "output_type": "stream",
     "text": [
      "<surprise.prediction_algorithms.matrix_factorization.SVDpp object at 0x7f53d0d5e1d0>\n",
      "<surprise.prediction_algorithms.knns.KNNBaseline object at 0x7f53d0d5d090>\n",
      "Estimating biases using als...\n",
      "Computing the msd similarity matrix...\n"
     ]
    },
    {
     "ename": "MemoryError",
     "evalue": "Unable to allocate 376. GiB for an array with shape (224792, 224792) and data type float64",
     "output_type": "error",
     "traceback": [
      "\u001b[0;31m---------------------------------------------------------------------------\u001b[0m",
      "\u001b[0;31mMemoryError\u001b[0m                               Traceback (most recent call last)",
      "\u001b[1;32m/home/berry/PAT/super-couscous/model_benchmark.ipynb Cell 11\u001b[0m line \u001b[0;36m7\n\u001b[1;32m      <a href='vscode-notebook-cell:/home/berry/PAT/super-couscous/model_benchmark.ipynb#X16sZmlsZQ%3D%3D?line=4'>5</a>\u001b[0m \u001b[39mprint\u001b[39m(algorithm)\n\u001b[1;32m      <a href='vscode-notebook-cell:/home/berry/PAT/super-couscous/model_benchmark.ipynb#X16sZmlsZQ%3D%3D?line=5'>6</a>\u001b[0m \u001b[39m# Perform cross validation\u001b[39;00m\n\u001b[0;32m----> <a href='vscode-notebook-cell:/home/berry/PAT/super-couscous/model_benchmark.ipynb#X16sZmlsZQ%3D%3D?line=6'>7</a>\u001b[0m results \u001b[39m=\u001b[39m cross_validate(algorithm, data, measures\u001b[39m=\u001b[39;49m[\u001b[39m'\u001b[39;49m\u001b[39mRMSE\u001b[39;49m\u001b[39m'\u001b[39;49m], cv\u001b[39m=\u001b[39;49m\u001b[39m3\u001b[39;49m, verbose\u001b[39m=\u001b[39;49m\u001b[39mFalse\u001b[39;49;00m)\n\u001b[1;32m      <a href='vscode-notebook-cell:/home/berry/PAT/super-couscous/model_benchmark.ipynb#X16sZmlsZQ%3D%3D?line=8'>9</a>\u001b[0m \u001b[39m# Get results & append algorithm name\u001b[39;00m\n\u001b[1;32m     <a href='vscode-notebook-cell:/home/berry/PAT/super-couscous/model_benchmark.ipynb#X16sZmlsZQ%3D%3D?line=9'>10</a>\u001b[0m mean_rmse \u001b[39m=\u001b[39m results[\u001b[39m'\u001b[39m\u001b[39mtest_rmse\u001b[39m\u001b[39m'\u001b[39m]\u001b[39m.\u001b[39mmean()\n",
      "File \u001b[0;32m~/anaconda3/envs/PAT/lib/python3.11/site-packages/surprise/model_selection/validation.py:108\u001b[0m, in \u001b[0;36mcross_validate\u001b[0;34m(algo, data, measures, cv, return_train_measures, n_jobs, pre_dispatch, verbose)\u001b[0m\n\u001b[1;32m    102\u001b[0m cv \u001b[39m=\u001b[39m get_cv(cv)\n\u001b[1;32m    104\u001b[0m delayed_list \u001b[39m=\u001b[39m (\n\u001b[1;32m    105\u001b[0m     delayed(fit_and_score)(algo, trainset, testset, measures, return_train_measures)\n\u001b[1;32m    106\u001b[0m     \u001b[39mfor\u001b[39;00m (trainset, testset) \u001b[39min\u001b[39;00m cv\u001b[39m.\u001b[39msplit(data)\n\u001b[1;32m    107\u001b[0m )\n\u001b[0;32m--> 108\u001b[0m out \u001b[39m=\u001b[39m Parallel(n_jobs\u001b[39m=\u001b[39;49mn_jobs, pre_dispatch\u001b[39m=\u001b[39;49mpre_dispatch)(delayed_list)\n\u001b[1;32m    110\u001b[0m (test_measures_dicts, train_measures_dicts, fit_times, test_times) \u001b[39m=\u001b[39m \u001b[39mzip\u001b[39m(\u001b[39m*\u001b[39mout)\n\u001b[1;32m    112\u001b[0m test_measures \u001b[39m=\u001b[39m \u001b[39mdict\u001b[39m()\n",
      "File \u001b[0;32m~/anaconda3/envs/PAT/lib/python3.11/site-packages/joblib/parallel.py:1863\u001b[0m, in \u001b[0;36mParallel.__call__\u001b[0;34m(self, iterable)\u001b[0m\n\u001b[1;32m   1861\u001b[0m     output \u001b[39m=\u001b[39m \u001b[39mself\u001b[39m\u001b[39m.\u001b[39m_get_sequential_output(iterable)\n\u001b[1;32m   1862\u001b[0m     \u001b[39mnext\u001b[39m(output)\n\u001b[0;32m-> 1863\u001b[0m     \u001b[39mreturn\u001b[39;00m output \u001b[39mif\u001b[39;00m \u001b[39mself\u001b[39m\u001b[39m.\u001b[39mreturn_generator \u001b[39melse\u001b[39;00m \u001b[39mlist\u001b[39m(output)\n\u001b[1;32m   1865\u001b[0m \u001b[39m# Let's create an ID that uniquely identifies the current call. If the\u001b[39;00m\n\u001b[1;32m   1866\u001b[0m \u001b[39m# call is interrupted early and that the same instance is immediately\u001b[39;00m\n\u001b[1;32m   1867\u001b[0m \u001b[39m# re-used, this id will be used to prevent workers that were\u001b[39;00m\n\u001b[1;32m   1868\u001b[0m \u001b[39m# concurrently finalizing a task from the previous call to run the\u001b[39;00m\n\u001b[1;32m   1869\u001b[0m \u001b[39m# callback.\u001b[39;00m\n\u001b[1;32m   1870\u001b[0m \u001b[39mwith\u001b[39;00m \u001b[39mself\u001b[39m\u001b[39m.\u001b[39m_lock:\n",
      "File \u001b[0;32m~/anaconda3/envs/PAT/lib/python3.11/site-packages/joblib/parallel.py:1792\u001b[0m, in \u001b[0;36mParallel._get_sequential_output\u001b[0;34m(self, iterable)\u001b[0m\n\u001b[1;32m   1790\u001b[0m \u001b[39mself\u001b[39m\u001b[39m.\u001b[39mn_dispatched_batches \u001b[39m+\u001b[39m\u001b[39m=\u001b[39m \u001b[39m1\u001b[39m\n\u001b[1;32m   1791\u001b[0m \u001b[39mself\u001b[39m\u001b[39m.\u001b[39mn_dispatched_tasks \u001b[39m+\u001b[39m\u001b[39m=\u001b[39m \u001b[39m1\u001b[39m\n\u001b[0;32m-> 1792\u001b[0m res \u001b[39m=\u001b[39m func(\u001b[39m*\u001b[39;49margs, \u001b[39m*\u001b[39;49m\u001b[39m*\u001b[39;49mkwargs)\n\u001b[1;32m   1793\u001b[0m \u001b[39mself\u001b[39m\u001b[39m.\u001b[39mn_completed_tasks \u001b[39m+\u001b[39m\u001b[39m=\u001b[39m \u001b[39m1\u001b[39m\n\u001b[1;32m   1794\u001b[0m \u001b[39mself\u001b[39m\u001b[39m.\u001b[39mprint_progress()\n",
      "File \u001b[0;32m~/anaconda3/envs/PAT/lib/python3.11/site-packages/surprise/model_selection/validation.py:173\u001b[0m, in \u001b[0;36mfit_and_score\u001b[0;34m(algo, trainset, testset, measures, return_train_measures)\u001b[0m\n\u001b[1;32m    142\u001b[0m \u001b[39m\u001b[39m\u001b[39m\"\"\"Helper method that trains an algorithm and compute accuracy measures on\u001b[39;00m\n\u001b[1;32m    143\u001b[0m \u001b[39ma testset. Also report train and test times.\u001b[39;00m\n\u001b[1;32m    144\u001b[0m \n\u001b[0;32m   (...)\u001b[0m\n\u001b[1;32m    169\u001b[0m \u001b[39m        - The testing time in seconds.\u001b[39;00m\n\u001b[1;32m    170\u001b[0m \u001b[39m\"\"\"\u001b[39;00m\n\u001b[1;32m    172\u001b[0m start_fit \u001b[39m=\u001b[39m time\u001b[39m.\u001b[39mtime()\n\u001b[0;32m--> 173\u001b[0m algo\u001b[39m.\u001b[39;49mfit(trainset)\n\u001b[1;32m    174\u001b[0m fit_time \u001b[39m=\u001b[39m time\u001b[39m.\u001b[39mtime() \u001b[39m-\u001b[39m start_fit\n\u001b[1;32m    175\u001b[0m start_test \u001b[39m=\u001b[39m time\u001b[39m.\u001b[39mtime()\n",
      "File \u001b[0;32m~/anaconda3/envs/PAT/lib/python3.11/site-packages/surprise/prediction_algorithms/knns.py:284\u001b[0m, in \u001b[0;36mKNNBaseline.fit\u001b[0;34m(self, trainset)\u001b[0m\n\u001b[1;32m    282\u001b[0m \u001b[39mself\u001b[39m\u001b[39m.\u001b[39mbu, \u001b[39mself\u001b[39m\u001b[39m.\u001b[39mbi \u001b[39m=\u001b[39m \u001b[39mself\u001b[39m\u001b[39m.\u001b[39mcompute_baselines()\n\u001b[1;32m    283\u001b[0m \u001b[39mself\u001b[39m\u001b[39m.\u001b[39mbx, \u001b[39mself\u001b[39m\u001b[39m.\u001b[39mby \u001b[39m=\u001b[39m \u001b[39mself\u001b[39m\u001b[39m.\u001b[39mswitch(\u001b[39mself\u001b[39m\u001b[39m.\u001b[39mbu, \u001b[39mself\u001b[39m\u001b[39m.\u001b[39mbi)\n\u001b[0;32m--> 284\u001b[0m \u001b[39mself\u001b[39m\u001b[39m.\u001b[39msim \u001b[39m=\u001b[39m \u001b[39mself\u001b[39;49m\u001b[39m.\u001b[39;49mcompute_similarities()\n\u001b[1;32m    286\u001b[0m \u001b[39mreturn\u001b[39;00m \u001b[39mself\u001b[39m\n",
      "File \u001b[0;32m~/anaconda3/envs/PAT/lib/python3.11/site-packages/surprise/prediction_algorithms/algo_base.py:248\u001b[0m, in \u001b[0;36mAlgoBase.compute_similarities\u001b[0;34m(self)\u001b[0m\n\u001b[1;32m    246\u001b[0m \u001b[39mif\u001b[39;00m \u001b[39mgetattr\u001b[39m(\u001b[39mself\u001b[39m, \u001b[39m\"\u001b[39m\u001b[39mverbose\u001b[39m\u001b[39m\"\u001b[39m, \u001b[39mFalse\u001b[39;00m):\n\u001b[1;32m    247\u001b[0m     \u001b[39mprint\u001b[39m(\u001b[39mf\u001b[39m\u001b[39m\"\u001b[39m\u001b[39mComputing the \u001b[39m\u001b[39m{\u001b[39;00mname\u001b[39m}\u001b[39;00m\u001b[39m similarity matrix...\u001b[39m\u001b[39m\"\u001b[39m)\n\u001b[0;32m--> 248\u001b[0m sim \u001b[39m=\u001b[39m construction_func[name](\u001b[39m*\u001b[39;49margs)\n\u001b[1;32m    249\u001b[0m \u001b[39mif\u001b[39;00m \u001b[39mgetattr\u001b[39m(\u001b[39mself\u001b[39m, \u001b[39m\"\u001b[39m\u001b[39mverbose\u001b[39m\u001b[39m\"\u001b[39m, \u001b[39mFalse\u001b[39;00m):\n\u001b[1;32m    250\u001b[0m     \u001b[39mprint\u001b[39m(\u001b[39m\"\u001b[39m\u001b[39mDone computing similarity matrix.\u001b[39m\u001b[39m\"\u001b[39m)\n",
      "File \u001b[0;32m~/anaconda3/envs/PAT/lib/python3.11/site-packages/surprise/similarities.pyx:125\u001b[0m, in \u001b[0;36msurprise.similarities.msd\u001b[0;34m()\u001b[0m\n",
      "\u001b[0;31mMemoryError\u001b[0m: Unable to allocate 376. GiB for an array with shape (224792, 224792) and data type float64"
     ]
    }
   ],
   "source": [
    "benchmark = pd.DataFrame(columns=['Algorithm', 'test_rmse_mean', 'test_rmse_std_dev'])\n",
    "# Iterate over all algorithms\n",
    "# for algorithm in [SVD(), SVDpp(), SlopeOne(), NormalPredictor(), KNNBaseline(), KNNBasic(), KNNWithMeans(), KNNWithZScore(), BaselineOnly(), CoClustering()]:\n",
    "for algorithm in [SVD(), SVDpp(), KNNBaseline()]:\n",
    "    # Perform cross validation\n",
    "    results = cross_validate(algorithm, data, measures=['RMSE'], cv=3, verbose=False)\n",
    "    \n",
    "    # Get results & append algorithm name\n",
    "    mean_rmse = results['test_rmse'].mean()\n",
    "    std_rmse = results['test_rmse'].std()\n",
    "\n",
    "    algo_df = pd.DataFrame([[algorithm.__class__.__name__, mean_rmse, std_rmse]],\n",
    "                             columns=['Algorithm', 'test_rmse_mean', 'test_rmse_std_dev'])\n",
    "    \n",
    "    benchmark = pd.concat([benchmark, algo_df], ignore_index=True)\n",
    "    \n",
    "    \n",
    "resultset = benchmark.sort_values(by='test_rmse_mean').set_index('Algorithm')"
   ]
  },
  {
   "cell_type": "code",
   "execution_count": 41,
   "metadata": {},
   "outputs": [
    {
     "data": {
      "text/html": [
       "<div>\n",
       "<style scoped>\n",
       "    .dataframe tbody tr th:only-of-type {\n",
       "        vertical-align: middle;\n",
       "    }\n",
       "\n",
       "    .dataframe tbody tr th {\n",
       "        vertical-align: top;\n",
       "    }\n",
       "\n",
       "    .dataframe thead th {\n",
       "        text-align: right;\n",
       "    }\n",
       "</style>\n",
       "<table border=\"1\" class=\"dataframe\">\n",
       "  <thead>\n",
       "    <tr style=\"text-align: right;\">\n",
       "      <th></th>\n",
       "      <th>test_rmse_mean</th>\n",
       "      <th>test_rmse_std_dev</th>\n",
       "    </tr>\n",
       "    <tr>\n",
       "      <th>Algorithm</th>\n",
       "      <th></th>\n",
       "      <th></th>\n",
       "    </tr>\n",
       "  </thead>\n",
       "  <tbody>\n",
       "    <tr>\n",
       "      <th>SVDpp</th>\n",
       "      <td>0.153274</td>\n",
       "      <td>0.000745</td>\n",
       "    </tr>\n",
       "    <tr>\n",
       "      <th>SVD</th>\n",
       "      <td>0.156274</td>\n",
       "      <td>0.000411</td>\n",
       "    </tr>\n",
       "  </tbody>\n",
       "</table>\n",
       "</div>"
      ],
      "text/plain": [
       "           test_rmse_mean  test_rmse_std_dev\n",
       "Algorithm                                   \n",
       "SVDpp            0.153274           0.000745\n",
       "SVD              0.156274           0.000411"
      ]
     },
     "execution_count": 41,
     "metadata": {},
     "output_type": "execute_result"
    }
   ],
   "source": [
    "resultset"
   ]
  }
 ],
 "metadata": {
  "kernelspec": {
   "display_name": "base",
   "language": "python",
   "name": "python3"
  },
  "language_info": {
   "codemirror_mode": {
    "name": "ipython",
    "version": 3
   },
   "file_extension": ".py",
   "mimetype": "text/x-python",
   "name": "python",
   "nbconvert_exporter": "python",
   "pygments_lexer": "ipython3",
   "version": "3.11.5"
  },
  "vscode": {
   "interpreter": {
    "hash": "4a3c54e841fe8ed729f88f1a4dbf5907a70c4a9986278aeeef34dd666b803d5d"
   }
  }
 },
 "nbformat": 4,
 "nbformat_minor": 5
}
